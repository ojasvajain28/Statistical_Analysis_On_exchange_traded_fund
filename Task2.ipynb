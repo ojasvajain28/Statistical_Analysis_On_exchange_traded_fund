{
 "cells": [
  {
   "cell_type": "code",
   "execution_count": null,
   "metadata": {},
   "outputs": [],
   "source": [
    "import yfinance as yf\n",
    "import datetime as dt\n",
    "import pandas as pd\n",
    "import requests\n",
    "import matplotlib.pyplot as plt\n",
    "import seaborn as sns"
   ]
  },
  {
   "cell_type": "code",
   "execution_count": null,
   "metadata": {},
   "outputs": [],
   "source": [
    "stocks = [\"RELIANCE.NS\", \"TCS.NS\", \"HDFCBANK.NS\",\"INFY.NS\",\"HINDUNILVR.NS\", \"ICICIBANK.NS\", \"HDFC.NS\", \"BHARTIARTL.NS\",\"SBIN.NS\", \"BAJFINANCE.NS\",\n",
    "         \"KOTAKBANK.NS\", \"WIPRO.NS\", \"DMART.NS\", \"HCLTECH.NS\", \"ASIANPAINT.NS\", \"BAJAJFINSV.NS\", \"ITC.NS\", \"LT.NS\", \"ULTRACEMCO.NS\",\n",
    "         \"AXISBANK.NS\", \"MARUTI.NS\", \"TITAN.NS\", \"ADANITRANS.NS\", \"ONGC.NS\", \"SUNPHARMA.NS\", \"ADANIGREEN.NS\", \"TATAMOTORS.NS\",\n",
    "         \"NESTLEIND.NS\", \"ADANIENT.NS\", \"JSWSTEEL.NS\", \"TATASTEEL.NS\", \"TECHM.NS\", \"ADANIPORTS.NS\", \"HDFCLIFE.NS\", \"NTPC.NS\",\n",
    "         \"IOC.NS\", \"DIVISLAB.NS\", \"POWERGRID.NS\", \"GRASIM.NS\", \"PIDILITIND.NS\", \"LTI.NS\", \"VEDL.NS\" , \"SBILIFE.NS\", \"M&M.NS\", \n",
    "         \"BAJAJ-AUTO.NS\", \"DLF.NS\", \"DABUR.NS\", \"SHREECEM.NS\", \"COALINDIA.NS\", \"SBICARD.NS\", \"HINDALCO.NS\", \"GODREJCP.NS\", \"BPCL.NS\",\n",
    "         \"ICICIPRULI.NS\",\"BRITANNIA.NS\", \"SIEMENS.NS\", \"AMBUJACEM.NS\", \"HAVELLS.NS\", \"INDIGO.NS\", \"DRREDDY.NS\", \"INDUSINDBK.NS\",\n",
    "         \"INDUSTOWER.NS\", \"NAUKRI.NS\", \"TATACONSUM.NS\", \"MOTHERSUMI.NS\", \"BERGEPAINT.NS\", \"EICHERMOT.NS\", \"ICICIGI.NS\", \"CIPLA.NS\",\n",
    "         \"MARICO.NS\", \"MCDOWELL-N.NS\", \"GAIL.NS\", \"MUTHOOTFIN.NS\", \"PEL.NS\", \"APOLLOHOSP.NS\", \"UPL.NS\", \"HDFCAMC.NS\", \"BAJAJHLDNG.NS\",\n",
    "         \"BOSCHLTD.NS\", \"HEROMOTOCO.NS\", \"CADILAHC.NS\", \"JUBLFOOD.NS\", \"BANDHANBNK.NS\", \"HINDPETRO.NS\", \"ACC.NS\", \"TORNTPHARM.NS\",\n",
    "         \"PGHH.NS\", \"PNB.NS\", \"UBL.NS\", \"LUPIN.NS\", \"ABBOTINDIA.NS\", \"ALKEM.NS\", \"NMDC.NS\", \"COLPAL.NS\", \"BIOCON.NS\", \"AUROPHARMA.NS\",\n",
    "         \"PETRONET.NS\", \"IGL.NS\", \"MRF.NS\", \"YESBANK.NS\"]"
   ]
  },
  {
   "cell_type": "code",
   "execution_count": null,
   "metadata": {},
   "outputs": [],
   "source": [
    "asset = [\"DABUR.NS\", \"ABBOTINDIA.NS\", \"BRITANNIA.NS\", \"COLPAL.NS\", \"HINDUNILVR.NS\", \"NESTLEIND.NS\", \"ALKEM.NS\", \"PGHH.NS\", \"HDFCLIFE.NS\",\n",
    "   \"INFY.NS\", \"PIDILITIND.NS\", \"SBILIFE.NS\", \"BERGEPAINT.NS\", \"ITC.NS\", \"TCS.NS\", \"MARICO.NS\" , \"MARUTI.NS\", \"BAJAJ-AUTO.NS\", \"TORNTPHARM.NS\",\n",
    "        \"HEROMOTOCO.NS\", \"BAJAJHLDNG.NS\", \"PETRONET.NS\", \"DIVISLAB.NS\", \"TATACONSUM.NS\", \"MCDOWELL-N.NS\", \"HDFCAMC.NS\", \"HDFCBANK.NS\", \"TITAN.NS\", \n",
    "        \"ULTRACEMCO.NS\", \"IOC.NS\"]"
   ]
  },
  {
   "cell_type": "code",
   "execution_count": null,
   "metadata": {},
   "outputs": [],
   "source": [
    "close_price = pd.DataFrame()\n",
    "for ticker in asset:\n",
    "    close_price[ticker] = yf.download(ticker, start = \"2020-09-01\", end = \"2021-08-31\")[\"Adj Close\"]"
   ]
  },
  {
   "cell_type": "code",
   "execution_count": null,
   "metadata": {},
   "outputs": [],
   "source": [
    "Y = close_price[asset].pct_change().dropna()\n",
    "display(Y.head())"
   ]
  },
  {
   "cell_type": "code",
   "execution_count": null,
   "metadata": {},
   "outputs": [],
   "source": [
    "pip install path/cvxpy‑version.whl"
   ]
  },
  {
   "cell_type": "code",
   "execution_count": null,
   "metadata": {},
   "outputs": [],
   "source": [
    "# pip install --user riskfolio-lib "
   ]
  },
  {
   "cell_type": "code",
   "execution_count": null,
   "metadata": {},
   "outputs": [],
   "source": [
    "pip install Riskfolio-Lib"
   ]
  },
  {
   "cell_type": "markdown",
   "metadata": {},
   "source": [
    "# Using MinRisk as an Objective with different Risk Measure"
   ]
  },
  {
   "cell_type": "markdown",
   "metadata": {},
   "source": [
    "## Risk Measure: MAD"
   ]
  },
  {
   "cell_type": "code",
   "execution_count": null,
   "metadata": {},
   "outputs": [],
   "source": [
    "import riskfolio as rp\n",
    "\n",
    "port = rp.Portfolio(returns=Y)\n",
    "\n",
    "# Calculating optimal portfolio\n",
    "\n",
    "# Select method and estimate input parameters:\n",
    "\n",
    "method_mu='hist' # Method to estimate expected returns based on historical data.\n",
    "method_cov='hist' # Method to estimate covariance matrix based on historical data.\n",
    "\n",
    "port.assets_stats(method_mu=method_mu, method_cov=method_cov, d=0.94)\n",
    "\n",
    "# Estimate optimal portfolio:\n",
    "\n",
    "model='Classic' # Could be Classic (historical), BL (Black Litterman) or FM (Factor Model)\n",
    "rm = 'MAD' # Risk measure used, this time will be variance\n",
    "obj = 'MinRisk' # Objective function, could be MinRisk, MaxRet, Utility or Sharpe\n",
    "hist = True # Use historical scenarios for risk measures that depend on scenarios\n",
    "rf = 0 # Risk free rate\n",
    "l = 0 # Risk aversion factor, only useful when obj is 'Utility'\n",
    "w1 = port.optimization(model=model, rm=rm, obj=obj, rf=rf, l=l, hist=hist)\n",
    "display(w1.T)"
   ]
  },
  {
   "cell_type": "code",
   "execution_count": null,
   "metadata": {},
   "outputs": [],
   "source": [
    "ax1 = rp.plot_pie(w=w1, title='MinRisk in MAD', cmap = \"tab20\", nrow = 30, height=6, width=10, ax=None)"
   ]
  },
  {
   "cell_type": "code",
   "execution_count": null,
   "metadata": {},
   "outputs": [],
   "source": [
    "ax = rp.plot_bar(w1, title='Portafolio', kind=\"v\", others=0.05,\n",
    "                 nrow=25, height=6, width=20, ax=None)"
   ]
  },
  {
   "cell_type": "markdown",
   "metadata": {},
   "source": [
    "# Risk Measure: EVaR"
   ]
  },
  {
   "cell_type": "code",
   "execution_count": null,
   "metadata": {},
   "outputs": [],
   "source": [
    "port = rp.Portfolio(returns=Y)\n",
    "\n",
    "# Calculating optimal portfolio\n",
    "\n",
    "# Select method and estimate input parameters:\n",
    "\n",
    "method_mu='hist' # Method to estimate expected returns based on historical data.\n",
    "method_cov='hist' # Method to estimate covariance matrix based on historical data.\n",
    "\n",
    "port.assets_stats(method_mu=method_mu, method_cov=method_cov, d=0.94)\n",
    "\n",
    "# Estimate optimal portfolio:\n",
    "\n",
    "model='Classic' # Could be Classic (historical), BL (Black Litterman) or FM (Factor Model)\n",
    "rm = 'EVaR' # Risk measure used, this time will be variance\n",
    "obj = 'MinRisk' # Objective function, could be MinRisk, MaxRet, Utility or Sharpe\n",
    "hist = True # Use historical scenarios for risk measures that depend on scenarios\n",
    "rf = 0 # Risk free rate\n",
    "l = 0 # Risk aversion factor, only useful when obj is 'Utility'\n",
    "w2 = port.optimization(model=model, rm=rm, obj=obj, rf=rf, l=l, hist=hist)\n",
    "display(w2.T)"
   ]
  },
  {
   "cell_type": "code",
   "execution_count": null,
   "metadata": {},
   "outputs": [],
   "source": [
    "ax1 = rp.plot_pie(w=w2, title='MinRisk with EVar risk measures', cmap = \"tab20\", nrow = 30, height=6, width=10, ax=None)"
   ]
  },
  {
   "cell_type": "code",
   "execution_count": null,
   "metadata": {},
   "outputs": [],
   "source": [
    "ax = rp.plot_bar(w2, title='Portafolio', kind=\"v\", others=0.05,\n",
    "                 nrow=30, height=6, width=20, ax=None)"
   ]
  },
  {
   "cell_type": "markdown",
   "metadata": {},
   "source": [
    "# Risk Measure: CVaR"
   ]
  },
  {
   "cell_type": "code",
   "execution_count": null,
   "metadata": {},
   "outputs": [],
   "source": [
    "port = rp.Portfolio(returns=Y)\n",
    "\n",
    "# Calculating optimal portfolio\n",
    "\n",
    "# Select method and estimate input parameters:\n",
    "\n",
    "method_mu='hist' # Method to estimate expected returns based on historical data.\n",
    "method_cov='hist' # Method to estimate covariance matrix based on historical data.\n",
    "\n",
    "port.assets_stats(method_mu=method_mu, method_cov=method_cov, d=0.94)\n",
    "\n",
    "# Estimate optimal portfolio:\n",
    "\n",
    "model='Classic' # Could be Classic (historical), BL (Black Litterman) or FM (Factor Model)\n",
    "rm = 'CVaR' # Risk measure used, this time will be variance\n",
    "obj = 'MinRisk' # Objective function, could be MinRisk, MaxRet, Utility or Sharpe\n",
    "hist = True # Use historical scenarios for risk measures that depend on scenarios\n",
    "rf = 0 # Risk free rate\n",
    "l = 0 # Risk aversion factor, only useful when obj is 'Utility'\n",
    "w3 = port.optimization(model=model, rm=rm, obj=obj, rf=rf, l=l, hist=hist)\n",
    "display(w3.T)"
   ]
  },
  {
   "cell_type": "code",
   "execution_count": null,
   "metadata": {},
   "outputs": [],
   "source": [
    "ax1 = rp.plot_pie(w=w3, title='MinRisk with EVar risk measures', cmap = \"tab20\", nrow = 30, height=6, width=10, ax=None)"
   ]
  },
  {
   "cell_type": "code",
   "execution_count": null,
   "metadata": {},
   "outputs": [],
   "source": [
    "ax = rp.plot_bar(w3, title='Portafolio', kind=\"v\", others=0.05,\n",
    "                 nrow=30, height=6, width=20, ax=None)"
   ]
  },
  {
   "cell_type": "markdown",
   "metadata": {},
   "source": [
    "# Risk Measure: CDaR"
   ]
  },
  {
   "cell_type": "code",
   "execution_count": null,
   "metadata": {},
   "outputs": [],
   "source": [
    "port = rp.Portfolio(returns=Y)\n",
    "\n",
    "# Calculating optimal portfolio\n",
    "\n",
    "# Select method and estimate input parameters:\n",
    "\n",
    "method_mu='hist' # Method to estimate expected returns based on historical data.\n",
    "method_cov='hist' # Method to estimate covariance matrix based on historical data.\n",
    "\n",
    "port.assets_stats(method_mu=method_mu, method_cov=method_cov, d=0.94)\n",
    "\n",
    "# Estimate optimal portfolio:\n",
    "\n",
    "model='Classic' # Could be Classic (historical), BL (Black Litterman) or FM (Factor Model)\n",
    "rm = 'CDaR' # Risk measure used, this time will be variance\n",
    "obj = 'MinRisk' # Objective function, could be MinRisk, MaxRet, Utility or Sharpe\n",
    "hist = True # Use historical scenarios for risk measures that depend on scenarios\n",
    "rf = 0 # Risk free rate\n",
    "l = 0 # Risk aversion factor, only useful when obj is 'Utility'\n",
    "w4 = port.optimization(model=model, rm=rm, obj=obj, rf=rf, l=l, hist=hist)\n",
    "display(w4.T)"
   ]
  },
  {
   "cell_type": "code",
   "execution_count": null,
   "metadata": {},
   "outputs": [],
   "source": [
    "ax1 = rp.plot_pie(w=w4, title='MinRisk with EVar risk measures', cmap = \"tab20\", nrow = 30, height=6, width=10, ax=None)"
   ]
  },
  {
   "cell_type": "code",
   "execution_count": null,
   "metadata": {},
   "outputs": [],
   "source": [
    "ax = rp.plot_bar(w4, title='Portafolio', kind=\"v\", others=0.05,\n",
    "                 nrow=30, height=6, width=20, ax=None)"
   ]
  },
  {
   "cell_type": "markdown",
   "metadata": {},
   "source": [
    "# Risk Measure: EDaR"
   ]
  },
  {
   "cell_type": "code",
   "execution_count": null,
   "metadata": {},
   "outputs": [],
   "source": [
    "port = rp.Portfolio(returns=Y)\n",
    "\n",
    "# Calculating optimal portfolio\n",
    "\n",
    "# Select method and estimate input parameters:\n",
    "\n",
    "method_mu='hist' # Method to estimate expected returns based on historical data.\n",
    "method_cov='hist' # Method to estimate covariance matrix based on historical data.\n",
    "\n",
    "port.assets_stats(method_mu=method_mu, method_cov=method_cov, d=0.94)\n",
    "\n",
    "# Estimate optimal portfolio:\n",
    "\n",
    "model='Classic' # Could be Classic (historical), BL (Black Litterman) or FM (Factor Model)\n",
    "rm = 'EDaR' # Risk measure used, this time will be variance\n",
    "obj = 'MinRisk' # Objective function, could be MinRisk, MaxRet, Utility or Sharpe\n",
    "hist = True # Use historical scenarios for risk measures that depend on scenarios\n",
    "rf = 0 # Risk free rate\n",
    "l = 0 # Risk aversion factor, only useful when obj is 'Utility'\n",
    "w5 = port.optimization(model=model, rm=rm, obj=obj, rf=rf, l=l, hist=hist)\n",
    "display(w5.T)"
   ]
  },
  {
   "cell_type": "code",
   "execution_count": null,
   "metadata": {},
   "outputs": [],
   "source": [
    "ax1 = rp.plot_pie(w=w4, title='MinRisk with EVar risk measures', cmap = \"tab20\", nrow = 30, height=6, width=10, ax=None)"
   ]
  },
  {
   "cell_type": "code",
   "execution_count": null,
   "metadata": {},
   "outputs": [],
   "source": [
    "ax = rp.plot_bar(w4, title='Portafolio', kind=\"v\", others=0.05,\n",
    "                 nrow=30, height=6, width=20, ax=None)"
   ]
  },
  {
   "cell_type": "markdown",
   "metadata": {},
   "source": [
    "# Risk Measure: MV"
   ]
  },
  {
   "cell_type": "code",
   "execution_count": null,
   "metadata": {},
   "outputs": [],
   "source": [
    "port = rp.Portfolio(returns=Y)\n",
    "\n",
    "# Calculating optimal portfolio\n",
    "\n",
    "# Select method and estimate input parameters:\n",
    "\n",
    "method_mu='hist' # Method to estimate expected returns based on historical data.\n",
    "method_cov='hist' # Method to estimate covariance matrix based on historical data.\n",
    "\n",
    "port.assets_stats(method_mu=method_mu, method_cov=method_cov, d=0.94)\n",
    "\n",
    "# Estimate optimal portfolio:\n",
    "\n",
    "model='Classic' # Could be Classic (historical), BL (Black Litterman) or FM (Factor Model)\n",
    "rm = 'MV' # Risk measure used, this time will be variance\n",
    "obj = 'MinRisk' # Objective function, could be MinRisk, MaxRet, Utility or Sharpe\n",
    "hist = True # Use historical scenarios for risk measures that depend on scenarios\n",
    "rf = 0 # Risk free rate\n",
    "l = 0 # Risk aversion factor, only useful when obj is 'Utility'\n",
    "w6 = port.optimization(model=model, rm=rm, obj=obj, rf=rf, l=l, hist=hist)\n",
    "display(w6.T)"
   ]
  },
  {
   "cell_type": "code",
   "execution_count": null,
   "metadata": {},
   "outputs": [],
   "source": [
    "ax1 = rp.plot_pie(w=w6, title='MinRisk with EVar risk measures', cmap = \"tab20\", nrow = 30, height=6, width=10, ax=None)"
   ]
  },
  {
   "cell_type": "code",
   "execution_count": null,
   "metadata": {},
   "outputs": [],
   "source": [
    "ax = rp.plot_bar(w6, title='Portafolio', kind=\"v\", others=0.05, nrow=30, height=6, width=20, ax=None)"
   ]
  },
  {
   "cell_type": "code",
   "execution_count": null,
   "metadata": {},
   "outputs": [],
   "source": [
    "fig1 = plt.figure(figsize=(36, 6), dpi=80)\n",
    "ax1 = fig1.add_subplot(111)\n",
    "ax1.plot(w1)\n",
    "ax1.plot(w2)\n",
    "ax1.plot(w3)\n",
    "ax1.plot(w4)\n",
    "ax1.plot(w5)\n",
    "ax1.plot(w6)\n",
    "plt.show()"
   ]
  },
  {
   "cell_type": "markdown",
   "metadata": {},
   "source": [
    "# Using Sharpe as an Objective with different Risk Measure"
   ]
  },
  {
   "cell_type": "markdown",
   "metadata": {},
   "source": [
    "## Risk Measure: MAD"
   ]
  },
  {
   "cell_type": "code",
   "execution_count": null,
   "metadata": {},
   "outputs": [],
   "source": [
    "import riskfolio as rp\n",
    "\n",
    "port = rp.Portfolio(returns=Y)\n",
    "\n",
    "# Calculating optimal portfolio\n",
    "\n",
    "# Select method and estimate input parameters:\n",
    "\n",
    "method_mu='hist' # Method to estimate expected returns based on historical data.\n",
    "method_cov='hist' # Method to estimate covariance matrix based on historical data.\n",
    "\n",
    "port.assets_stats(method_mu=method_mu, method_cov=method_cov, d=0.94)\n",
    "\n",
    "# Estimate optimal portfolio:\n",
    "\n",
    "model='Classic' # Could be Classic (historical), BL (Black Litterman) or FM (Factor Model)\n",
    "rm = 'MAD' # Risk measure used, this time will be variance\n",
    "obj = 'Sharpe' # Objective function, could be MinRisk, MaxRet, Utility or Sharpe\n",
    "hist = True # Use historical scenarios for risk measures that depend on scenarios\n",
    "rf = 0 # Risk free rate\n",
    "l = 0 # Risk aversion factor, only useful when obj is 'Utility'\n",
    "W1 = port.optimization(model=model, rm=rm, obj=obj, rf=rf, l=l, hist=hist)\n",
    "display(W1.T)"
   ]
  },
  {
   "cell_type": "code",
   "execution_count": null,
   "metadata": {},
   "outputs": [],
   "source": [
    "ax1 = rp.plot_pie(w=W1, title='MinRisk in MAD', cmap = \"tab20\", nrow = 30, height=6, width=10, ax=None)"
   ]
  },
  {
   "cell_type": "code",
   "execution_count": null,
   "metadata": {},
   "outputs": [],
   "source": [
    "ax = rp.plot_bar(W1, title='Portafolio', kind=\"v\", others=0.05, nrow=25, height=6, width=20, ax=None)"
   ]
  },
  {
   "cell_type": "markdown",
   "metadata": {},
   "source": [
    "## Risk Measure: EVaR"
   ]
  },
  {
   "cell_type": "code",
   "execution_count": null,
   "metadata": {},
   "outputs": [],
   "source": [
    "import riskfolio as rp\n",
    "\n",
    "port = rp.Portfolio(returns=Y)\n",
    "\n",
    "# Calculating optimal portfolio\n",
    "\n",
    "# Select method and estimate input parameters:\n",
    "\n",
    "method_mu='hist' # Method to estimate expected returns based on historical data.\n",
    "method_cov='hist' # Method to estimate covariance matrix based on historical data.\n",
    "\n",
    "port.assets_stats(method_mu=method_mu, method_cov=method_cov, d=0.94)\n",
    "\n",
    "# Estimate optimal portfolio:\n",
    "\n",
    "model='Classic' # Could be Classic (historical), BL (Black Litterman) or FM (Factor Model)\n",
    "rm = 'EVaR' # Risk measure used, this time will be variance\n",
    "obj = 'Sharpe' # Objective function, could be MinRisk, MaxRet, Utility or Sharpe\n",
    "hist = True # Use historical scenarios for risk measures that depend on scenarios\n",
    "rf = 0 # Risk free rate\n",
    "l = 0 # Risk aversion factor, only useful when obj is 'Utility'\n",
    "W2 = port.optimization(model=model, rm=rm, obj=obj, rf=rf, l=l, hist=hist)\n",
    "display(W2.T)"
   ]
  },
  {
   "cell_type": "code",
   "execution_count": null,
   "metadata": {},
   "outputs": [],
   "source": [
    "ax1 = rp.plot_pie(w=W2, title='MinRisk in MAD', cmap = \"tab20\", nrow = 30, height=6, width=10, ax=None)"
   ]
  },
  {
   "cell_type": "code",
   "execution_count": null,
   "metadata": {},
   "outputs": [],
   "source": [
    "ax = rp.plot_bar(W2, title='Portafolio', kind=\"v\", others=0.05,\n",
    "                 nrow=30, height=6, width=20, ax=None)"
   ]
  },
  {
   "cell_type": "markdown",
   "metadata": {},
   "source": [
    "## Risk Measure: CVaR"
   ]
  },
  {
   "cell_type": "code",
   "execution_count": null,
   "metadata": {},
   "outputs": [],
   "source": [
    "import riskfolio as rp\n",
    "\n",
    "port = rp.Portfolio(returns=Y)\n",
    "\n",
    "# Calculating optimal portfolio\n",
    "\n",
    "# Select method and estimate input parameters:\n",
    "\n",
    "method_mu='hist' # Method to estimate expected returns based on historical data.\n",
    "method_cov='hist' # Method to estimate covariance matrix based on historical data.\n",
    "\n",
    "port.assets_stats(method_mu=method_mu, method_cov=method_cov, d=0.94)\n",
    "\n",
    "# Estimate optimal portfolio:\n",
    "\n",
    "model='Classic' # Could be Classic (historical), BL (Black Litterman) or FM (Factor Model)\n",
    "rm = 'CVaR' # Risk measure used, this time will be variance\n",
    "obj = 'Sharpe' # Objective function, could be MinRisk, MaxRet, Utility or Sharpe\n",
    "hist = True # Use historical scenarios for risk measures that depend on scenarios\n",
    "rf = 0 # Risk free rate\n",
    "l = 0 # Risk aversion factor, only useful when obj is 'Utility'\n",
    "W3 = port.optimization(model=model, rm=rm, obj=obj, rf=rf, l=l, hist=hist)\n",
    "display(W3.T)"
   ]
  },
  {
   "cell_type": "code",
   "execution_count": null,
   "metadata": {},
   "outputs": [],
   "source": [
    "ax1 = rp.plot_pie(w=W3, title='MinRisk in MAD', cmap = \"tab20\", nrow = 30, height=6, width=10, ax=None)"
   ]
  },
  {
   "cell_type": "code",
   "execution_count": null,
   "metadata": {},
   "outputs": [],
   "source": [
    "ax = rp.plot_bar(W3, title='Portafolio', kind=\"v\", others=0.05,\n",
    "                 nrow=30, height=6, width=20, ax=None)"
   ]
  },
  {
   "cell_type": "markdown",
   "metadata": {},
   "source": [
    "# Risk Measure: CDaR"
   ]
  },
  {
   "cell_type": "code",
   "execution_count": null,
   "metadata": {},
   "outputs": [],
   "source": [
    "import riskfolio as rp\n",
    "\n",
    "port = rp.Portfolio(returns=Y)\n",
    "\n",
    "# Calculating optimal portfolio\n",
    "\n",
    "# Select method and estimate input parameters:\n",
    "\n",
    "method_mu='hist' # Method to estimate expected returns based on historical data.\n",
    "method_cov='hist' # Method to estimate covariance matrix based on historical data.\n",
    "\n",
    "port.assets_stats(method_mu=method_mu, method_cov=method_cov, d=0.94)\n",
    "\n",
    "# Estimate optimal portfolio:\n",
    "\n",
    "model='Classic' # Could be Classic (historical), BL (Black Litterman) or FM (Factor Model)\n",
    "rm = 'CDaR' # Risk measure used, this time will be variance\n",
    "obj = 'Sharpe' # Objective function, could be MinRisk, MaxRet, Utility or Sharpe\n",
    "hist = True # Use historical scenarios for risk measures that depend on scenarios\n",
    "rf = 0 # Risk free rate\n",
    "l = 0 # Risk aversion factor, only useful when obj is 'Utility'\n",
    "W4 = port.optimization(model=model, rm=rm, obj=obj, rf=rf, l=l, hist=hist)\n",
    "display(W4.T)"
   ]
  },
  {
   "cell_type": "code",
   "execution_count": null,
   "metadata": {},
   "outputs": [],
   "source": [
    "ax1 = rp.plot_pie(w=W4, title='MinRisk in MAD', cmap = \"tab20\", nrow = 30, height=6, width=10, ax=None)"
   ]
  },
  {
   "cell_type": "code",
   "execution_count": null,
   "metadata": {},
   "outputs": [],
   "source": [
    "ax = rp.plot_bar(W4, title='Portafolio', kind=\"v\", others=0.05,\n",
    "                 nrow=30, height=6, width=20, ax=None)"
   ]
  },
  {
   "cell_type": "markdown",
   "metadata": {},
   "source": [
    "## Risk Measure: EDaR"
   ]
  },
  {
   "cell_type": "code",
   "execution_count": null,
   "metadata": {},
   "outputs": [],
   "source": [
    "import riskfolio as rp\n",
    "\n",
    "port = rp.Portfolio(returns=Y)\n",
    "\n",
    "# Calculating optimal portfolio\n",
    "\n",
    "# Select method and estimate input parameters:\n",
    "\n",
    "method_mu='hist' # Method to estimate expected returns based on historical data.\n",
    "method_cov='hist' # Method to estimate covariance matrix based on historical data.\n",
    "\n",
    "port.assets_stats(method_mu=method_mu, method_cov=method_cov, d=0.94)\n",
    "\n",
    "# Estimate optimal portfolio:\n",
    "\n",
    "model='Classic' # Could be Classic (historical), BL (Black Litterman) or FM (Factor Model)\n",
    "rm = 'EDaR' # Risk measure used, this time will be variance\n",
    "obj = 'Sharpe' # Objective function, could be MinRisk, MaxRet, Utility or Sharpe\n",
    "hist = True # Use historical scenarios for risk measures that depend on scenarios\n",
    "rf = 0 # Risk free rate\n",
    "l = 0 # Risk aversion factor, only useful when obj is 'Utility'\n",
    "W5 = port.optimization(model=model, rm=rm, obj=obj, rf=rf, l=l, hist=hist)\n",
    "display(W5.T)"
   ]
  },
  {
   "cell_type": "code",
   "execution_count": null,
   "metadata": {},
   "outputs": [],
   "source": [
    "ax1 = rp.plot_pie(w=W5, title='MinRisk in MAD', cmap = \"tab20\", nrow = 30, height=6, width=10, ax=None)"
   ]
  },
  {
   "cell_type": "code",
   "execution_count": null,
   "metadata": {},
   "outputs": [],
   "source": [
    "ax = rp.plot_bar(W5, title='Portafolio', kind=\"v\", others=0.05, nrow=30, height=6, width=20, ax=None)"
   ]
  },
  {
   "cell_type": "code",
   "execution_count": null,
   "metadata": {},
   "outputs": [],
   "source": [
    "fig1 = plt.figure(figsize=(36, 6), dpi=80)\n",
    "ax1 = fig1.add_subplot(111)\n",
    "ax1.plot(W1)\n",
    "ax1.plot(W2)\n",
    "ax1.plot(W3)\n",
    "ax1.plot(W4)\n",
    "ax1.plot(W5)\n",
    "plt.show()"
   ]
  }
 ],
 "metadata": {
  "kernelspec": {
   "display_name": "Python 3",
   "language": "python",
   "name": "python3"
  },
  "language_info": {
   "codemirror_mode": {
    "name": "ipython",
    "version": 3
   },
   "file_extension": ".py",
   "mimetype": "text/x-python",
   "name": "python",
   "nbconvert_exporter": "python",
   "pygments_lexer": "ipython3",
   "version": "3.10.7"
  }
 },
 "nbformat": 4,
 "nbformat_minor": 4
}
